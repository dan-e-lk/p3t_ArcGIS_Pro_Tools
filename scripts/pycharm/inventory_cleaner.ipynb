{
 "cells": [
  {
   "metadata": {
    "ExecuteTime": {
     "end_time": "2025-06-23T13:56:52.456989Z",
     "start_time": "2025-06-23T13:56:52.454502Z"
    }
   },
   "cell_type": "code",
   "source": "import arcpy",
   "id": "782df187b8880b9b",
   "outputs": [],
   "execution_count": 6
  },
  {
   "metadata": {
    "ExecuteTime": {
     "end_time": "2025-06-23T13:56:52.477592Z",
     "start_time": "2025-06-23T13:56:52.466534Z"
    }
   },
   "cell_type": "code",
   "source": [
    "import os\n",
    "import pandas as pd"
   ],
   "id": "87bb7b88c09418f2",
   "outputs": [],
   "execution_count": 7
  },
  {
   "metadata": {
    "ExecuteTime": {
     "end_time": "2025-06-23T13:56:52.496628Z",
     "start_time": "2025-06-23T13:56:52.489521Z"
    }
   },
   "cell_type": "code",
   "source": [
    "inv_gdb = r'T:\\FMP_AR_AWS\\PIAM_Roll-up\\PIAM_Merge.gdb'\n",
    "arcpy.env.workspace = inv_gdb\n",
    "nebor = 'NEBOR_FOR_over_5000m2'\n",
    "nwbor = 'NWBOR_FOR_over_5000m2_SPCOMPcheck2'\n",
    "glsl= 'GLSL_FOR_over_5000m2'"
   ],
   "id": "ff8e4dd10bd519eb",
   "outputs": [],
   "execution_count": 8
  },
  {
   "metadata": {},
   "cell_type": "markdown",
   "source": "Turning feature class into a dataframe using pandas",
   "id": "841644ae5b364780"
  },
  {
   "metadata": {
    "ExecuteTime": {
     "end_time": "2025-06-23T13:56:52.519686Z",
     "start_time": "2025-06-23T13:56:52.516082Z"
    }
   },
   "cell_type": "code",
   "source": [
    "def fctbl_to_df(fc):\n",
    "    f = [field.name for field in arcpy.ListFields(fc)]\n",
    "    data = [row for row in arcpy.da.SearchCursor(fc, f)]\n",
    "    df = pd.DataFrame(data, columns=f)\n",
    "    return df"
   ],
   "id": "6a820a60ac62fd0f",
   "outputs": [],
   "execution_count": 9
  },
  {
   "metadata": {
    "ExecuteTime": {
     "end_time": "2025-06-23T13:57:45.901752Z",
     "start_time": "2025-06-23T13:56:52.537697Z"
    }
   },
   "cell_type": "code",
   "source": "df_nebor = fctbl_to_df(nebor)",
   "id": "239054c61fe237d4",
   "outputs": [],
   "execution_count": 10
  },
  {
   "metadata": {},
   "cell_type": "markdown",
   "source": "",
   "id": "b7a954e448a6b10e"
  }
 ],
 "metadata": {
  "kernelspec": {
   "display_name": "Python 3",
   "language": "python",
   "name": "python3"
  },
  "language_info": {
   "codemirror_mode": {
    "name": "ipython",
    "version": 2
   },
   "file_extension": ".py",
   "mimetype": "text/x-python",
   "name": "python",
   "nbconvert_exporter": "python",
   "pygments_lexer": "ipython2",
   "version": "2.7.6"
  }
 },
 "nbformat": 4,
 "nbformat_minor": 5
}
